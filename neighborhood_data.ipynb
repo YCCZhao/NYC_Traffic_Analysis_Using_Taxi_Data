{
 "cells": [
  {
   "cell_type": "code",
   "execution_count": 1,
   "metadata": {
    "collapsed": true
   },
   "outputs": [],
   "source": [
    "import pandas as pd"
   ]
  },
  {
   "cell_type": "code",
   "execution_count": 19,
   "metadata": {},
   "outputs": [],
   "source": [
    "neighborhood_data = pd.read_csv('neighborhood_data.csv', \n",
    "                                header=None)\n",
    "\n",
    "new_columns = ['nb', 'area','2010_income',\n",
    "                     '2015_income', '2010_population',\n",
    "                     '2015_population']"
   ]
  },
  {
   "cell_type": "code",
   "execution_count": 20,
   "metadata": {
    "collapsed": true
   },
   "outputs": [],
   "source": [
    "neighborhood_data = neighborhood_data.rename(columns=dict(zip(neighborhood_data.columns,\n",
    "                                                              new_columns)))"
   ]
  },
  {
   "cell_type": "code",
   "execution_count": 32,
   "metadata": {},
   "outputs": [],
   "source": [
    "sum_p = neighborhood_data.groupby('area', as_index=False)['2010_population', '2015_population'].sum()\n",
    "sum_p = sum_p.rename(columns={'2010_population': '2010_sum_p',\n",
    "                              '2015_population': '2015_sum_p'})"
   ]
  },
  {
   "cell_type": "code",
   "execution_count": 35,
   "metadata": {},
   "outputs": [],
   "source": [
    "neighborhood_data = neighborhood_data.merge(sum_p, left_on='area', right_on='area')"
   ]
  },
  {
   "cell_type": "code",
   "execution_count": 36,
   "metadata": {},
   "outputs": [],
   "source": [
    "neighborhood_data['population_por_2010'] = neighborhood_data['2010_population']/neighborhood_data['2010_sum_p']"
   ]
  },
  {
   "cell_type": "code",
   "execution_count": 37,
   "metadata": {
    "collapsed": true
   },
   "outputs": [],
   "source": [
    "neighborhood_data['population_por_2015'] = neighborhood_data['2015_population']/neighborhood_data['2015_sum_p']"
   ]
  },
  {
   "cell_type": "code",
   "execution_count": 39,
   "metadata": {},
   "outputs": [],
   "source": [
    "neighborhood_data['temp_2010'] = neighborhood_data['2010_income']*neighborhood_data['population_por_2010']\n",
    "\n",
    "neighborhood_data['temp_2015'] = neighborhood_data['2015_income']*neighborhood_data['population_por_2015']"
   ]
  },
  {
   "cell_type": "code",
   "execution_count": 44,
   "metadata": {},
   "outputs": [],
   "source": [
    "sum_income = neighborhood_data.groupby('area',as_index=False)['temp_2010', 'temp_2015'].sum()"
   ]
  },
  {
   "cell_type": "code",
   "execution_count": 45,
   "metadata": {},
   "outputs": [
    {
     "data": {
      "text/html": [
       "<div>\n",
       "<style>\n",
       "    .dataframe thead tr:only-child th {\n",
       "        text-align: right;\n",
       "    }\n",
       "\n",
       "    .dataframe thead th {\n",
       "        text-align: left;\n",
       "    }\n",
       "\n",
       "    .dataframe tbody tr th {\n",
       "        vertical-align: top;\n",
       "    }\n",
       "</style>\n",
       "<table border=\"1\" class=\"dataframe\">\n",
       "  <thead>\n",
       "    <tr style=\"text-align: right;\">\n",
       "      <th></th>\n",
       "      <th>area</th>\n",
       "      <th>temp_2010</th>\n",
       "      <th>temp_2015</th>\n",
       "    </tr>\n",
       "  </thead>\n",
       "  <tbody>\n",
       "    <tr>\n",
       "      <th>0</th>\n",
       "      <td>d</td>\n",
       "      <td>87718.921898</td>\n",
       "      <td>97365.286063</td>\n",
       "    </tr>\n",
       "    <tr>\n",
       "      <th>1</th>\n",
       "      <td>m</td>\n",
       "      <td>92649.429333</td>\n",
       "      <td>105543.549658</td>\n",
       "    </tr>\n",
       "    <tr>\n",
       "      <th>2</th>\n",
       "      <td>u</td>\n",
       "      <td>40359.538017</td>\n",
       "      <td>43660.733728</td>\n",
       "    </tr>\n",
       "    <tr>\n",
       "      <th>3</th>\n",
       "      <td>ue</td>\n",
       "      <td>104400.000000</td>\n",
       "      <td>103560.000000</td>\n",
       "    </tr>\n",
       "    <tr>\n",
       "      <th>4</th>\n",
       "      <td>uw</td>\n",
       "      <td>98410.000000</td>\n",
       "      <td>102130.000000</td>\n",
       "    </tr>\n",
       "  </tbody>\n",
       "</table>\n",
       "</div>"
      ],
      "text/plain": [
       "  area      temp_2010      temp_2015\n",
       "0    d   87718.921898   97365.286063\n",
       "1    m   92649.429333  105543.549658\n",
       "2    u   40359.538017   43660.733728\n",
       "3   ue  104400.000000  103560.000000\n",
       "4   uw   98410.000000  102130.000000"
      ]
     },
     "execution_count": 45,
     "metadata": {},
     "output_type": "execute_result"
    }
   ],
   "source": [
    "sum_income"
   ]
  },
  {
   "cell_type": "code",
   "execution_count": 50,
   "metadata": {},
   "outputs": [],
   "source": [
    "neighborhood_agg = pd.merge(sum_p, sum_income, left_on='area', right_on='area')"
   ]
  },
  {
   "cell_type": "code",
   "execution_count": 73,
   "metadata": {},
   "outputs": [],
   "source": [
    "foo = neighborhood_agg.set_index('area').T.to_dict()\n",
    "years = list(range(2010, 2017))"
   ]
  },
  {
   "cell_type": "code",
   "execution_count": 89,
   "metadata": {},
   "outputs": [],
   "source": [
    "nbh_income_info = {area: [] for area in foo.keys()}\n",
    "\n",
    "for area in foo:\n",
    "    #population_rate = (foo[area]['2015_sum_p'] - foo[area]['2010_sum_p'])/5\n",
    "    income_rate = (foo[area]['temp_2015'] - foo[area]['temp_2010'])/5\n",
    "    \n",
    "    for i in range(7): \n",
    "        nbh_income_info[area].append(foo[area]['temp_2010'] + i*income_rate)"
   ]
  },
  {
   "cell_type": "code",
   "execution_count": 93,
   "metadata": {
    "collapsed": true
   },
   "outputs": [],
   "source": [
    "import json"
   ]
  },
  {
   "cell_type": "code",
   "execution_count": 95,
   "metadata": {
    "collapsed": true
   },
   "outputs": [],
   "source": [
    "json.dump(nbh_pop_info, open('nbh_pop_info.json','w'))"
   ]
  },
  {
   "cell_type": "code",
   "execution_count": null,
   "metadata": {
    "collapsed": true
   },
   "outputs": [],
   "source": []
  }
 ],
 "metadata": {
  "kernelspec": {
   "display_name": "Python 3",
   "language": "python",
   "name": "python3"
  },
  "language_info": {
   "codemirror_mode": {
    "name": "ipython",
    "version": 3
   },
   "file_extension": ".py",
   "mimetype": "text/x-python",
   "name": "python",
   "nbconvert_exporter": "python",
   "pygments_lexer": "ipython3",
   "version": "3.6.3"
  }
 },
 "nbformat": 4,
 "nbformat_minor": 2
}
