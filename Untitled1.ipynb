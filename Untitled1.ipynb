{
 "cells": [
  {
   "cell_type": "code",
   "execution_count": 2,
   "metadata": {},
   "outputs": [],
   "source": [
    "import json\n",
    "#from shapely.geometry import Point, Polygon\n",
    "import time\n",
    "import datetime\n",
    "import numpy as np\n",
    "import dask.dataframe as dd\n",
    "from matplotlib import path\n"
   ]
  },
  {
   "cell_type": "code",
   "execution_count": 3,
   "metadata": {},
   "outputs": [],
   "source": [
    "geo_data =  json.load(open('NY_neighborhoods.geojson'))   # GeoJson file"
   ]
  },
  {
   "cell_type": "code",
   "execution_count": 4,
   "metadata": {},
   "outputs": [],
   "source": [
    "islands = ['Ellis Island', 'Governors Island', 'Liberty Island']"
   ]
  },
  {
   "cell_type": "code",
   "execution_count": 9,
   "metadata": {},
   "outputs": [],
   "source": [
    "custom_geo_data = {'type': 'FeatureCollection',\n",
    "                   'features': []}\n",
    "for feature in geo_data['features']: \n",
    "    if (((feature['properties']['borough'] == 'Manhattan') and (feature['properties']['neighborhood'] not in islands))\n",
    "        or (\"airport\" in feature['properties']['neighborhood'].lower())):\n",
    "        custom_geo_data['features'].append(feature)"
   ]
  },
  {
   "cell_type": "code",
   "execution_count": 10,
   "metadata": {},
   "outputs": [
    {
     "data": {
      "text/plain": [
       "36"
      ]
     },
     "execution_count": 10,
     "metadata": {},
     "output_type": "execute_result"
    }
   ],
   "source": [
    "len(custom_geo_data['features'])"
   ]
  },
  {
   "cell_type": "code",
   "execution_count": 13,
   "metadata": {},
   "outputs": [],
   "source": [
    "nbs = []\n",
    "for feature in custom_geo_data['features']:\n",
    "    nbs.append(feature['properties']['neighborhood'])"
   ]
  },
  {
   "cell_type": "code",
   "execution_count": 17,
   "metadata": {},
   "outputs": [],
   "source": [
    "d='downtown'\n",
    "c='central'\n",
    "u='uptown'\n",
    "m='midtown'\n",
    "ue='upper east'\n",
    "uw='upper west'\n",
    "a='airport'\n",
    "area = [d, c, d, d, d, u, d, d, d, d, d, u, m, u, a, m, a, d, d, u, m, u, m, d, d, u, m, d, m, m, d, d, ue, uw, u, d]"
   ]
  },
  {
   "cell_type": "code",
   "execution_count": 22,
   "metadata": {},
   "outputs": [],
   "source": [
    "json.dump(dict(zip(nbs, area)), open('area_dict.json','w'))"
   ]
  },
  {
   "cell_type": "code",
   "execution_count": 12,
   "metadata": {},
   "outputs": [],
   "source": [
    "json.dump(custom_geo_data, open('NY_manhanttan_neighborhoods.geojson', 'w'))"
   ]
  },
  {
   "cell_type": "code",
   "execution_count": 7,
   "metadata": {
    "collapsed": true
   },
   "outputs": [],
   "source": [
    "taxi_trips = dd.read_csv('https://s3-us-west-1.amazonaws.com/ycczhao-nyc-taxi-data/2013_green.csv')  "
   ]
  },
  {
   "cell_type": "code",
   "execution_count": 9,
   "metadata": {},
   "outputs": [
    {
     "data": {
      "text/plain": [
       "Dask Series Structure:\n",
       "npartitions=3\n",
       "    object\n",
       "       ...\n",
       "       ...\n",
       "       ...\n",
       "Name: pickup_datetime, dtype: object\n",
       "Dask Name: getitem, 12 tasks"
      ]
     },
     "execution_count": 9,
     "metadata": {},
     "output_type": "execute_result"
    }
   ],
   "source": [
    "taxi_trips['pickup_datetime']"
   ]
  },
  {
   "cell_type": "code",
   "execution_count": 18,
   "metadata": {
    "collapsed": true
   },
   "outputs": [],
   "source": [
    "geo_data =  json.load(open('NY_neighborhoods.geojson')) \n",
    "for feature in geo_data['features']:     \n",
    "    coords = feature['geometry']['coordinates'][0]\n",
    "    p = path.Path(coords)"
   ]
  },
  {
   "cell_type": "code",
   "execution_count": 27,
   "metadata": {},
   "outputs": [
    {
     "data": {
      "text/plain": [
       "array([False, False], dtype=bool)"
      ]
     },
     "execution_count": 27,
     "metadata": {},
     "output_type": "execute_result"
    }
   ],
   "source": [
    "p.contains_points([(-73.90014,40.75615), (-73.90014,40.75615)])"
   ]
  },
  {
   "cell_type": "code",
   "execution_count": 31,
   "metadata": {},
   "outputs": [
    {
     "data": {
      "text/plain": [
       "Path(array([[-73.90086626,  40.75767359],\n",
       "       [-73.90014   ,  40.75615   ],\n",
       "       [-73.898697  ,  40.75411   ],\n",
       "       [-73.897699  ,  40.752365  ],\n",
       "       [-73.89728   ,  40.750418  ],\n",
       "       [-73.896938  ,  40.750501  ],\n",
       "       [-73.894338  ,  40.74658   ],\n",
       "       [-73.891457  ,  40.74687   ],\n",
       "       [-73.89109468,  40.74504032],\n",
       "       [-73.890716  ,  40.743128  ],\n",
       "       [-73.890875  ,  40.743106  ],\n",
       "       [-73.890547  ,  40.741513  ],\n",
       "       [-73.89021171,  40.74076958],\n",
       "       [-73.889898  ,  40.740074  ],\n",
       "       [-73.889742  ,  40.739115  ],\n",
       "       [-73.89015654,  40.73919209],\n",
       "       [-73.89016   ,  40.739199  ],\n",
       "       [-73.89147139,  40.73943659],\n",
       "       [-73.89866   ,  40.740773  ],\n",
       "       [-73.89929621,  40.74085427],\n",
       "       [-73.900509  ,  40.741074  ],\n",
       "       [-73.907506  ,  40.741862  ],\n",
       "       [-73.90750606,  40.74186176],\n",
       "       [-73.912822  ,  40.742486  ],\n",
       "       [-73.912131  ,  40.745887  ],\n",
       "       [-73.912449  ,  40.74592   ],\n",
       "       [-73.911642  ,  40.748685  ],\n",
       "       [-73.91189   ,  40.748715  ],\n",
       "       [-73.91162474,  40.74998021],\n",
       "       [-73.90971   ,  40.749755  ],\n",
       "       [-73.909483  ,  40.75056   ],\n",
       "       [-73.909556  ,  40.751037  ],\n",
       "       [-73.91058   ,  40.752984  ],\n",
       "       [-73.91351921,  40.75349597],\n",
       "       [-73.911764  ,  40.755573  ],\n",
       "       [-73.911568  ,  40.75548   ],\n",
       "       [-73.911294  ,  40.755814  ],\n",
       "       [-73.910618  ,  40.755476  ],\n",
       "       [-73.90907   ,  40.757565  ],\n",
       "       [-73.907828  ,  40.756999  ],\n",
       "       [-73.90737   ,  40.756988  ],\n",
       "       [-73.90086626,  40.75767359]]), None)"
      ]
     },
     "execution_count": 31,
     "metadata": {},
     "output_type": "execute_result"
    }
   ],
   "source": [
    "p"
   ]
  },
  {
   "cell_type": "code",
   "execution_count": null,
   "metadata": {
    "collapsed": true
   },
   "outputs": [],
   "source": []
  }
 ],
 "metadata": {
  "kernelspec": {
   "display_name": "Python 3",
   "language": "python",
   "name": "python3"
  },
  "language_info": {
   "codemirror_mode": {
    "name": "ipython",
    "version": 3
   },
   "file_extension": ".py",
   "mimetype": "text/x-python",
   "name": "python",
   "nbconvert_exporter": "python",
   "pygments_lexer": "ipython3",
   "version": "3.6.3"
  }
 },
 "nbformat": 4,
 "nbformat_minor": 2
}
